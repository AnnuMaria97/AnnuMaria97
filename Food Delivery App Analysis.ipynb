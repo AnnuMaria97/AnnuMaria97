{
 "cells": [
  {
   "cell_type": "code",
   "execution_count": 1,
   "id": "ba9a3a74",
   "metadata": {},
   "outputs": [],
   "source": [
    "import pandas as pd\n",
    "import numpy as np\n",
    "import re\n",
    "import warnings\n",
    "warnings.filterwarnings(\"ignore\")"
   ]
  },
  {
   "cell_type": "code",
   "execution_count": null,
   "id": "5b311a63",
   "metadata": {},
   "outputs": [],
   "source": [
    "def read_data_from_csv():\n",
    "    \n",
    "    hotels=pd.read_csv(\"D:\\Msc Data Science and Analytics\\Practise Datasets\\zomato.csv\")\n",
    "    \n",
    "    return hotels"
   ]
  },
  {
   "cell_type": "code",
   "execution_count": null,
   "id": "358e0d72",
   "metadata": {},
   "outputs": [],
   "source": [
    "def remove_unwanted_columns():\n",
    "    \n",
    "    #call read_data_from_csv() function to get dataframe\n",
    "    hotels=read_data_from_csv()\n",
    "    hotels = hotels.drop(['address','phone'], inplace=True, axis=1)\n",
    "    \n",
    "    return hotels"
   ]
  },
  {
   "cell_type": "code",
   "execution_count": null,
   "id": "25eb1c41",
   "metadata": {},
   "outputs": [],
   "source": [
    "# 56252 rows\n",
    "def rename_columns():\n",
    "    \n",
    "    #call remove_unwanted_columns() function to get dataframe\n",
    "    hotels = remove_unwanted_columns()\n",
    "    hotels.rename(columns = {'name':'name'}, inplace=True)\n",
    "    hotels.rename(columns = {'rate':'rating'}, inplace=True)\n",
    "    hotels.rename(columns = {'approx_cost(for two people)':'approx_cost'}, inplace = True)\n",
    "    hotels.rename(columns = {'listed_in(type)':'type'}, inplace = True)\n",
    "    \n",
    "    return hotels"
   ]
  },
  {
   "cell_type": "code",
   "execution_count": null,
   "id": "6dde588f",
   "metadata": {},
   "outputs": [],
   "source": [
    "#task3: handle  null values of each column 56236 records after running this fn\n",
    "def null_value_check():\n",
    "    \n",
    "    #call rename_columns() function to get dataframe\n",
    "    hotels=rename_columns()\n",
    "    \n",
    "    #deleting null values of name column\n",
    "    hotels = hotels.dropna(subset=['name'])\n",
    "    #handling null values of online_order\n",
    "    hotels[\"online_order\"].fillna(\"NA\", inplace = True)\n",
    "    #handling null values of book_table\n",
    "    hotels[\"book_table\"].fillna(\"NA\", inplace = True)\n",
    "    #handling null values of rating\n",
    "    hotels['rating'] = hotels['rating'].fillna(0)\n",
    "    #handling null values of votes\n",
    "    hotels['votes'] = hotels['votes'].fillna(0)\n",
    "    #handling null values of location\n",
    "    hotels[\"location\"].fillna(\"NA\", inplace = True)\n",
    "    #handling null values of rest_type\n",
    "    hotels[\"rest_type\"].fillna(\"NA\", inplace = True)\n",
    "    #handling null values of dishliked\n",
    "    hotels[\"dish_liked\"].fillna(\"NA\", inplace = True)\n",
    "    #handling null values of cuisines\n",
    "    hotels[\"cuisines\"].fillna(\"NA\", inplace = True)\n",
    "    #handling null values of approxcost\n",
    "    hotels['approx_cost'] = hotels['approx_cost'].fillna(0)\n",
    "    #handling null values of type\n",
    "    hotels[\"type\"].fillna(\"NA\", inplace = True)\n",
    "       \n",
    "    return hotels"
   ]
  },
  {
   "cell_type": "code",
   "execution_count": null,
   "id": "9fe24e25",
   "metadata": {},
   "outputs": [],
   "source": [
    "#task4 #find duplicates in the dataset -38413 records after running this fn\n",
    "def find_duplicates():\n",
    "    \n",
    "    #call null_value_check() function to get dataframe\n",
    "    hotels=null_value_check()\n",
    "    #droping the duplicates value keeping the first\n",
    "    hotels = hotels.drop_duplicates(keep = 'first', inplace=True)\n",
    "\n",
    "    return hotels"
   ]
  },
  {
   "cell_type": "code",
   "execution_count": null,
   "id": "42158757",
   "metadata": {},
   "outputs": [],
   "source": [
    "#task5 removing irrelevant text from all the columns\n",
    "def removing_irrelevant_text():\n",
    "    \n",
    "    #call find_duplicates() function to get dataframe\n",
    "    hotels= find_duplicates()\n",
    "    hotels = hotels[hotels['name'].str.contains('RATED|Rated') == False]\n",
    "    hotels = hotels[hotels['online_order'].str.contains('RATED|Rated') == False]\n",
    "    hotels = hotels[hotels['book_table'].str.contains('RATED|Rated') == False]\n",
    "    hotels = hotels[hotels['rating'].str.contains('RATED|Rated') == False]\n",
    "    hotels = hotels[hotels['votes'].str.contains('RATED|Rated') == False]\n",
    "    hotels = hotels[hotels['location'].str.contains('RATED|Rated') == False]\n",
    "    hotels = hotels[hotels['rest_type'].str.contains('RATED|Rated') == False]\n",
    "    hotels = hotels[hotels['dish_liked'].str.contains('RATED|Rated') == False]\n",
    "    hotels = hotels[hotels['cuisines'].str.contains('RATED|Rated') == False]\n",
    "    hotels = hotels[hotels['approx_cost'].str.contains('RATED|Rated') == False]\n",
    "    hotels = hotels[hotels['type'].str.contains('RATED|Rated') == False]\n",
    "    \n",
    "    return hotels"
   ]
  },
  {
   "cell_type": "code",
   "execution_count": null,
   "id": "a7709289",
   "metadata": {},
   "outputs": [],
   "source": [
    "#task6: check for unique values in each column and handle the irrelevant values\n",
    "def check_for_unique_values():\n",
    "    \n",
    "    #call removing_irrelevant_text() function to get dataframe\n",
    "    hotels = removing_irrelevant_text()\n",
    "    hotels['approx_cost'].unique()\n",
    "    hotels[\"type\"].unique()\n",
    "    hotels[\"rest_type\"].unique()\n",
    "    hotels[\"online_order\"].unique()\n",
    "    hotels[\"cuisines\"].unique()\n",
    "    hotels[\"votes\"].unique()\n",
    "    hotels[\"cuisines\"].unique()\n",
    "    hotels[\"dish_liked\"].value_counts()\n",
    "    hotels[\"book_table\"].unique()\n",
    "    \n",
    "    hotels = hotels[hotels['online_order'].isin(['Yes', 'No'])]\n",
    "    hotels['rating'].replace(['NEW', '-'], 0, inplace=True)\n",
    "    # get the unique values in the Rating column\n",
    "    unique_ratings = hotels['rating'].unique()\n",
    "    \n",
    "    # define the mapping dictionary\n",
    "    mapping = {}\n",
    "\n",
    "    for rating in unique_ratings:\n",
    "        if rating is None:\n",
    "            mapping[rating] = 0\n",
    "        elif isinstance(rating, int):\n",
    "            mapping[rating] = rating\n",
    "        else:\n",
    "            mapping[rating] = rating.split('/')[0]\n",
    "\n",
    "    # apply the mapping using map()\n",
    "    hotels['rating'] = hotels['rating'].map(mapping)\n",
    "    \n",
    "    return hotels"
   ]
  },
  {
   "cell_type": "code",
   "execution_count": null,
   "id": "77568f14",
   "metadata": {},
   "outputs": [],
   "source": [
    "#task7: remove the unknown character from the dataset and export it to \"zomatocleaned.csv\"\n",
    "def remove_the_unknown_character():\n",
    "\n",
    "    #call check_for_unique_values() function to get dataframe\n",
    "    dataframe=check_for_unique_values()\n",
    "\n",
    "\n",
    "    #remove unknown character from dataset\n",
    "    # replacing the Ã character with an empty string in the 'name' column\n",
    "    dataframe['name'] = dataframe['name'].str.replace('[Ãx][^A-Za-z]+','',regex=True)\n",
    "    dataframe['approx_cost'] = dataframe['approx_cost'].str.replace(',','', regex = True)\n",
    "    #export cleaned Dataset to newcsv file named \"zomatocleaned.csv\"\n",
    "    dataframe.to_csv('zomatocleaned.csv')\n",
    "    \n",
    "    return dataframe"
   ]
  },
  {
   "cell_type": "code",
   "execution_count": null,
   "id": "f5ad62e0",
   "metadata": {},
   "outputs": [],
   "source": [
    "df = remove_the_unknown_character()"
   ]
  },
  {
   "cell_type": "code",
   "execution_count": null,
   "id": "4dc4870e",
   "metadata": {},
   "outputs": [],
   "source": [
    "#30336 x 11 records\n",
    "df"
   ]
  },
  {
   "cell_type": "code",
   "execution_count": null,
   "id": "ceb7d780",
   "metadata": {},
   "outputs": [],
   "source": []
  }
 ],
 "metadata": {
  "kernelspec": {
   "display_name": "Python 3",
   "language": "python",
   "name": "python3"
  },
  "language_info": {
   "codemirror_mode": {
    "name": "ipython",
    "version": 3
   },
   "file_extension": ".py",
   "mimetype": "text/x-python",
   "name": "python",
   "nbconvert_exporter": "python",
   "pygments_lexer": "ipython3",
   "version": "3.8.8"
  }
 },
 "nbformat": 4,
 "nbformat_minor": 5
}